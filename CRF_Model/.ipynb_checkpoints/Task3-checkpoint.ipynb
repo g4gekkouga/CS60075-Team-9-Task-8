{
 "cells": [
  {
   "cell_type": "code",
   "execution_count": 1,
   "id": "engaged-affiliation",
   "metadata": {},
   "outputs": [],
   "source": [
    "import re\n",
    "import sys\n",
    "import os\n",
    "import glob\n",
    "\n",
    "from collections import Counter\n",
    "from quantities import units\n",
    "from quantities.units.area import D\n",
    "from quantities.unitquantity import UnitQuantity as UQ\n",
    "\n",
    "import scipy\n",
    "import pandas as pd\n",
    "import spacy\n",
    "import corenlp\n",
    "import sklearn_crfsuite\n",
    "from sklearn.model_selection import RandomizedSearchCV\n",
    "from sklearn.metrics import make_scorer\n",
    "from sklearn.model_selection import cross_val_score\n",
    "from sklearn_crfsuite import scorers\n",
    "from sklearn_crfsuite import metrics\n",
    "\n",
    "# %matplotlib inline\n",
    "import matplotlib.pyplot as plt\n",
    "plt.style.use('ggplot')"
   ]
  },
  {
   "cell_type": "code",
   "execution_count": 2,
   "id": "cooperative-issue",
   "metadata": {},
   "outputs": [],
   "source": [
    "tags = {'QUANT' : 'Quantity', 'ME' : 'MeasuredEntity', 'MP' : 'MeasuredProperty'}\n",
    "lang_model = spacy.load('en_core_web_sm')"
   ]
  },
  {
   "cell_type": "code",
   "execution_count": 3,
   "id": "plain-number",
   "metadata": {},
   "outputs": [],
   "source": [
    "units_list = []\n",
    "\n",
    "train_raw_files = glob.glob(\"train/text/*.txt\")\n",
    "train_tsv_files = glob.glob(\"train/tsv/*.tsv\")\n",
    "test_raw_files = glob.glob(\"trial/txt/*.txt\")\n",
    "test_tsv_files = glob.glob(\"trial/tsv/*.tsv\")\n",
    "eval_raw_files = glob.glob(\"eval/text/*.txt\")"
   ]
  },
  {
   "cell_type": "code",
   "execution_count": 4,
   "id": "figured-notion",
   "metadata": {},
   "outputs": [],
   "source": [
    "def raw_text_to_df(raw_files):\n",
    "    \"\"\"converting raw training files to dataframes\"\"\"\n",
    "    # dict to be exported as dataframe\n",
    "    documents_of_interest = {\n",
    "        'document_name': [],\n",
    "        'sentence': [],\n",
    "        'entities': [],\n",
    "        'np': []\n",
    "    }\n",
    "    # filling the dict\n",
    "    for raw_file in raw_files:\n",
    "        with open(raw_file, \"r\") as file:\n",
    "            doc_name = file.name.split(\"/\")[2]\n",
    "            doc_name = doc_name.split('.')[0]\n",
    "            file_content = lang_model(file.read())\n",
    "            for sentence in file_content.sents:\n",
    "                sentence_pos_tags = [word.tag_ for word in sentence]\n",
    "                documents_of_interest['document_name'].append(doc_name)\n",
    "                documents_of_interest['sentence'].append(sentence)\n",
    "                entities = []\n",
    "                for measurement in sentence.ents:\n",
    "                    entities.append((measurement.label_,(measurement.start, measurement.end)))\n",
    "                documents_of_interest['entities'].append(\n",
    "                    entities\n",
    "                )\n",
    "\n",
    "                noun_phrases = []\n",
    "\n",
    "                for chunk in sentence.noun_chunks:\n",
    "                    noun_phrases.append((chunk.text, (chunk.start, chunk.end)))\n",
    "                documents_of_interest['np'].append(noun_phrases)\n",
    "                    \n",
    "        # break\n",
    "    dataframe = pd.DataFrame(\n",
    "        documents_of_interest,\n",
    "        columns=['document_name', 'sentence', 'entities', 'np'],\n",
    "    )\n",
    "    return dataframe"
   ]
  },
  {
   "cell_type": "code",
   "execution_count": 5,
   "id": "lucky-adrian",
   "metadata": {},
   "outputs": [],
   "source": [
    "def get_text_labels(text_dataframe, tsv_dataframe):\n",
    "    labels = []\n",
    "    for _, text_row in text_dataframe.iterrows():\n",
    "        sentence_tag_placeholders = []\n",
    "        for word in text_row['sentence']:\n",
    "            sentence_tag_placeholders.append(\n",
    "                ['O', (word.idx, (word.idx + len(word)))]\n",
    "            )\n",
    "        # O means not a quantity QUANT means quantity\n",
    "        document_name = text_row['document_name']\n",
    "        doc_id = tsv_dataframe['docId'] == document_name\n",
    "        for _, annot_row in tsv_dataframe[doc_id].iterrows():\n",
    "            annotType = annot_row['annotType']\n",
    "            if annotType == 'Qualifier':\n",
    "                continue\n",
    "\n",
    "            for key, value in tags.items():\n",
    "                if annotType == value:\n",
    "                    annotType = key\n",
    "                    break\n",
    "            \n",
    "            for i, item in enumerate(sentence_tag_placeholders):\n",
    "                if item[0] != 'O':\n",
    "                    continue\n",
    "                \n",
    "                if (annot_row['startOffset'] <= item[1][0] < annot_row['endOffset']) or (annot_row['startOffset'] < item[1][1] <= annot_row['endOffset']):\n",
    "                    sentence_tag_placeholders[i][0] = annotType\n",
    "    \n",
    "        labels.append([label for label, _ in sentence_tag_placeholders])\n",
    "                \n",
    "    return labels"
   ]
  },
  {
   "cell_type": "code",
   "execution_count": 6,
   "id": "induced-birthday",
   "metadata": {},
   "outputs": [],
   "source": [
    "def get_units() :\n",
    "    units_list = ['%'] # Add possible unit symbols\n",
    "    for key, value in units.__dict__.items():\n",
    "        if isinstance(value, UQ):\n",
    "            if key not in units_list :\n",
    "                units_list.append(key.lower())\n",
    "            if value.name not in units_list :\n",
    "                units_list.append(value.name.lower())\n",
    "        \n",
    "    return units_list\n",
    "\n",
    "def is_unit(token):\n",
    "    return token.lower_ in units_list or token.lemma_ in units_list"
   ]
  },
  {
   "cell_type": "code",
   "execution_count": 7,
   "id": "brutal-harmony",
   "metadata": {},
   "outputs": [],
   "source": [
    "def features_word(word, entities, nouns, length, pos):\n",
    "    \n",
    "    features = {\n",
    "        'bias': 1.0,\n",
    "        'lemma': word.lemma_,\n",
    "        'upper': word.is_upper,\n",
    "        'title': word.is_title,\n",
    "        'digit': word.is_digit,\n",
    "        'numlike': word.like_num,\n",
    "        'unit': is_unit(word),\n",
    "        'postag': word.tag_,\n",
    "        'dep': word.dep_\n",
    "    }\n",
    "    \n",
    "    for entity in entities:\n",
    "        if entity[1][0] <= word.i < entity[1][1]:\n",
    "            features['entity'] = entity[0]\n",
    "            break\n",
    "    \n",
    "    for noun in nouns:\n",
    "        if noun[1][0] <= word.i < noun[1][1]:\n",
    "            features['np'] = list(noun[0])\n",
    "            break\n",
    "    \n",
    "    if pos >= 1 :\n",
    "        new_word = word.nbor(-1)\n",
    "        features.update({\n",
    "            '-lemma': new_word.lemma_,\n",
    "            '-upper': new_word.is_upper,\n",
    "            '-title': new_word.is_title,\n",
    "            '-digit': new_word.is_digit,\n",
    "            '-numlike': new_word.like_num,\n",
    "            '-unit': is_unit(new_word),\n",
    "            '-postag': new_word.tag_,\n",
    "            '-dep': new_word.dep_\n",
    "        })\n",
    "    \n",
    "    else:\n",
    "        features['start'] = True\n",
    "        \n",
    "        \n",
    "    if pos <= length-2 :\n",
    "        new_word = word.nbor(1)\n",
    "        features.update({\n",
    "            '+lemma': new_word.lemma_,\n",
    "            '+upper': new_word.is_upper,\n",
    "            '+title': new_word.is_title,\n",
    "            '+digit': new_word.is_digit,\n",
    "            '+numlike': new_word.like_num,\n",
    "            '+unit': is_unit(new_word),\n",
    "            '+postag': new_word.tag_,\n",
    "            '+dep': new_word.dep_\n",
    "        })\n",
    "        \n",
    "    else:\n",
    "        features['end'] = True\n",
    "    \n",
    "    window_3 = {'lower': [], 'lemma': [], 'pos': [], 'dep': []}\n",
    "    window_5 = {'lower': [], 'lemma': [], 'pos': [], 'dep': []}\n",
    "#    window_8 = {'lower': [], 'lemma': [],'pos': [], 'dep': []}\n",
    "    \n",
    "    for x in range(-5, 6):\n",
    "        if x == 0 or (pos + x < 0) or (pos + x > length - 1):\n",
    "            continue\n",
    "\n",
    "        window_word = word.nbor(x)\n",
    "        \n",
    "        if x in range(-3, 4):\n",
    "            window_3['lemma'].append(window_word.lemma_)\n",
    "            window_3['pos'].append(window_word.pos_)\n",
    "            window_3['dep'].append(window_word.dep_)\n",
    "            \n",
    "#             if x in range(-2, 3):\n",
    "#                 window_2['lower'].append(window_word.lower_)\n",
    "#                 window_2['lemma'].append(window_word.lemma_)\n",
    "#                 window_2['pos'].append(window_word.pos_)\n",
    "#                 window_2['dep'].append(window_word.dep_)\n",
    "\n",
    "        window_5['lemma'].append(window_word.lemma_)\n",
    "        window_5['pos'].append(window_word.pos_)\n",
    "        window_5['dep'].append(window_word.dep_)\n",
    "    \n",
    "    features.update({\n",
    "            'window_3_words:lemma': window_3['lemma'],\n",
    "            'window_3_words:pos': window_3['pos'],\n",
    "            'window_3_words:dep': window_3['dep'],\n",
    "            'window_5_words:lemma': window_5['lemma'],\n",
    "            'window_5_words:pos': window_5['pos'],\n",
    "            'window_5_words:dep': window_5['dep']\n",
    "    })\n",
    "    \n",
    "    return features"
   ]
  },
  {
   "cell_type": "code",
   "execution_count": 8,
   "id": "atlantic-taiwan",
   "metadata": {},
   "outputs": [],
   "source": [
    "def features_sentence(sentence, entities, nouns):\n",
    "    sentence_features = []\n",
    "    for i in range(0, len(sentence)) :\n",
    "        word_features = features_word(sentence[i], entities, nouns, len(sentence), i)\n",
    "        sentence_features.append(word_features)\n",
    "    return sentence_features"
   ]
  },
  {
   "cell_type": "code",
   "execution_count": 9,
   "id": "eastern-treaty",
   "metadata": {},
   "outputs": [],
   "source": [
    "def find_closest(span, start, end):\n",
    "    if len(span) == 0:\n",
    "        return -1;\n",
    "    ind = -1\n",
    "    min_dist = 100000\n",
    "    for i in range(len(span)):\n",
    "        dist = 100000\n",
    "        if (start > span[i][1]) :\n",
    "            dist = start - span[i][1]\n",
    "        else :\n",
    "            dist = span[i][0] - end\n",
    "        if dist <= min_dist :\n",
    "            min_dist = dist\n",
    "            ind = i\n",
    "    return ind"
   ]
  },
  {
   "cell_type": "code",
   "execution_count": 10,
   "id": "vital-carter",
   "metadata": {},
   "outputs": [],
   "source": [
    "global annot_set_index\n",
    "global annot_index"
   ]
  },
  {
   "cell_type": "code",
   "execution_count": 11,
   "id": "static-setup",
   "metadata": {},
   "outputs": [],
   "source": [
    "def merge_tags(output_list, quant_list, mp_list, me_list, quantspan, mpspan, mespan):\n",
    "    \n",
    "    global annot_set_index\n",
    "    global annot_index\n",
    "    \n",
    "    if (len(quant_list) <= 0) :\n",
    "        return output_list\n",
    "    \n",
    "    me_ind = []\n",
    "    mp_ind = []\n",
    "    for i in range(len(quant_list)):\n",
    "        me_ind.append([])\n",
    "        mp_ind.append([])\n",
    "    \n",
    "    \n",
    "    for i in range(len(mpspan)):\n",
    "        closest = find_closest(quantspan, mpspan[i][0], mpspan[i][1])\n",
    "        mp_ind[closest].append(i)\n",
    "        \n",
    "    \n",
    "    for i in range(len(mespan)):\n",
    "        closest = find_closest(quantspan, mespan[i][0], mespan[i][1])\n",
    "        me_ind[closest].append(i)\n",
    "    \n",
    "    for i in range(len(quant_list)):\n",
    "#         quant_list[i][1] = annot_set_index\n",
    "        quant_list[i][5] = annot_index\n",
    "#         annot_set_index += 1\n",
    "        annot_index += 1\n",
    "        output_list.append(quant_list[i])\n",
    "    \n",
    "        if len(mp_ind[i]) > 0:\n",
    "            for x in mp_ind[i]:\n",
    "                mp_list[x][1] = quant_list[i][1]\n",
    "                mp_list[x][5] = annot_index\n",
    "                annot_index += 1\n",
    "                mp_list[x][7] = '{\"HasQuantity\": \"' + str(quant_list[i][5]) + '\"}'\n",
    "                output_list.append(mp_list[x])\n",
    "            \n",
    "    \n",
    "        if len(me_ind[i]) > 0:\n",
    "            for x in me_ind[i]:\n",
    "                me_list[x][1] = quant_list[i][1] \n",
    "                me_list[x][5] = annot_index\n",
    "                annot_index += 1\n",
    "                me_list[x][7] = '{\"HasQuantity\": \"' + str(quant_list[i][5]) + '\"}'\n",
    "            \n",
    "            output_list.append(me_list[x])\n",
    "    return output_list"
   ]
  },
  {
   "cell_type": "code",
   "execution_count": 12,
   "id": "historic-cutting",
   "metadata": {},
   "outputs": [],
   "source": [
    "def write_predictions_to_tsv(text_dataframe, y_pred, dirname, units):\n",
    "    tsv_columns = [\n",
    "        \"docId\",\n",
    "        \"annotSet\",\n",
    "        \"annotType\",\n",
    "        \"startOffset\",\n",
    "        \"endOffset\",\n",
    "        \"annotId\",\n",
    "        \"text\",\n",
    "        \"other\"\n",
    "    ]\n",
    "    # save the results in appropriate format in a new dataframe\n",
    "    row_id = 0\n",
    "    output_list = []\n",
    "    prev_file = \"\"\n",
    "    global annot_set_index\n",
    "    annot_set_index = 1\n",
    "    global annot_index\n",
    "    annot_index = 1\n",
    "    for i, text_row in text_dataframe.iterrows():\n",
    "        quant_list = []\n",
    "        mp_list = []\n",
    "        me_list = []\n",
    "        quantspan = []\n",
    "        mpspan = []\n",
    "        mespan = []\n",
    "        file_name = text_row['document_name']\n",
    "        if i > 0 and file_name != prev_file:\n",
    "            result_df = pd.DataFrame(output_list, columns=tsv_columns)\n",
    "            result_df.to_csv(dirname + prev_file + '.tsv', sep=\"\\t\", index=False)\n",
    "            output_list = []\n",
    "            annot_set_index = 1\n",
    "            annot_index = 1\n",
    "\n",
    "        pred_pos = y_pred[row_id]\n",
    "        row_id += 1\n",
    "        sentence = text_row['sentence']\n",
    "        \n",
    "        word_ind = 0\n",
    "        while word_ind < len(pred_pos) :\n",
    "            if pred_pos[word_ind] != 'QUANT':\n",
    "                word_ind += 1\n",
    "                continue\n",
    "            \n",
    "            start_ind = word_ind\n",
    "            while word_ind < len(pred_pos) and pred_pos[word_ind] == 'QUANT':\n",
    "                word_ind += 1\n",
    "            end_ind = word_ind - 1\n",
    "            \n",
    "            quant_text = sentence.doc[sentence[start_ind].i : sentence[end_ind].i + 1]\n",
    "            unit = 'default'\n",
    "            flag = False\n",
    "            for i in range(start_ind, end_ind + 1):\n",
    "                if sentence[i].text in units:\n",
    "                    unit = sentence[i].text\n",
    "                    flag = True\n",
    "            if not flag:\n",
    "                unit = sentence[end_ind].text\n",
    "            quant_list.append([file_name, annot_set_index, tags['QUANT'], sentence[start_ind].idx, sentence[end_ind].idx + len(sentence[end_ind]), 0, quant_text, '{\"unit\": \"' + unit + '\"}'])\n",
    "            quantspan.append([sentence[start_ind].i, sentence[end_ind].i])\n",
    "            annot_set_index += 1\n",
    "            \n",
    "        word_ind = 0\n",
    "        while word_ind < len(pred_pos) :\n",
    "            if pred_pos[word_ind] != 'MP':\n",
    "                word_ind += 1\n",
    "                continue\n",
    "            \n",
    "            start_ind = word_ind\n",
    "            while word_ind < len(pred_pos) and pred_pos[word_ind] == 'MP':\n",
    "                word_ind += 1\n",
    "            end_ind = word_ind - 1\n",
    "            \n",
    "            mp_text = sentence.doc[sentence[start_ind].i : sentence[end_ind].i + 1]\n",
    "            mp_list.append([file_name, 0, tags['MP'], sentence[start_ind].idx, sentence[end_ind].idx + len(sentence[end_ind]), 0, mp_text, '{\"HasQuantity\": \"0\"}'])\n",
    "            mpspan.append([sentence[start_ind].i, sentence[end_ind].i])\n",
    "            \n",
    "        word_ind = 0\n",
    "        while word_ind < len(pred_pos) :\n",
    "            if pred_pos[word_ind] != 'ME':\n",
    "                word_ind += 1\n",
    "                continue\n",
    "            \n",
    "            start_ind = word_ind\n",
    "            while word_ind < len(pred_pos) and pred_pos[word_ind] == 'ME':\n",
    "                word_ind += 1\n",
    "            end_ind = word_ind - 1\n",
    "            \n",
    "            me_text = sentence.doc[sentence[start_ind].i : sentence[end_ind].i + 1]\n",
    "            me_list.append([file_name, 0, tags['ME'], sentence[start_ind].idx, sentence[end_ind].idx + len(sentence[end_ind]), 0, me_text, '{\"HasQuantity\": \"0\"}'])\n",
    "            mespan.append([sentence[start_ind].i, sentence[end_ind].i])\n",
    "        \n",
    "        output_list = merge_tags(output_list, quant_list, mp_list, me_list, quantspan, mpspan, mespan)\n",
    "#         output_list = tmp_ret[0]\n",
    "#         annot_set_index = tmp_ret[1]\n",
    "#         annot_index = tmp_ret[2]\n",
    "#         print(\"Here\", annot_set_index)\n",
    "        prev_file = file_name\n",
    "        \n",
    "    result_df = pd.DataFrame(output_list, columns=tsv_columns)\n",
    "    result_df.to_csv(dirname + prev_file + '.tsv', sep=\"\\t\", index=False)\n",
    "    return"
   ]
  },
  {
   "cell_type": "code",
   "execution_count": 29,
   "id": "useful-liverpool",
   "metadata": {},
   "outputs": [],
   "source": [
    "def modify_tsv(dirname):\n",
    "    _, _, filenames = next(os.walk(dirname))\n",
    "    tsv_columns = [\n",
    "            \"docId\",\n",
    "            \"annotSet\",\n",
    "            \"annotType\",\n",
    "            \"startOffset\",\n",
    "            \"endOffset\",\n",
    "            \"annotId\",\n",
    "            \"text\",\n",
    "            \"other\"\n",
    "        ]\n",
    "    for file in filenames:\n",
    "        df = pd.read_csv(dirname + file, sep=\"\\t\", encoding=\"utf-8\")\n",
    "        data = df.values.tolist()\n",
    "        prop_id = '0'\n",
    "        for i in range(len(data)):\n",
    "            item = data[i]\n",
    "            if item[2] == 'Quantity':\n",
    "                prop_id = '0'\n",
    "            elif item[2] == 'MeasuredProperty':\n",
    "                prop_id = str(item[5])\n",
    "            elif item[2] == 'MeasuredEntity':\n",
    "                if prop_id != '0':\n",
    "                    data[i][7] = '{\"HasProperty\": \"' + prop_id + '\"}' \n",
    "        result_df = pd.DataFrame(data, columns=tsv_columns)\n",
    "        result_df.to_csv(dirname + file, sep=\"\\t\", index=False)"
   ]
  },
  {
   "cell_type": "code",
   "execution_count": 15,
   "id": "nominated-lafayette",
   "metadata": {},
   "outputs": [],
   "source": [
    "def print_transitions(trans_features):\n",
    "    for (label_from, label_to), weight in trans_features:\n",
    "        print(\"%-6s -> %-7s %0.6f\" % (label_from, label_to, weight))"
   ]
  },
  {
   "cell_type": "code",
   "execution_count": 16,
   "id": "labeled-identity",
   "metadata": {},
   "outputs": [],
   "source": [
    "def print_state_features(state_features):\n",
    "    for (attr, label), weight in state_features:\n",
    "        print(\"%0.6f %-8s %s\" % (weight, label, attr))"
   ]
  },
  {
   "cell_type": "code",
   "execution_count": 14,
   "id": "exceptional-working",
   "metadata": {},
   "outputs": [],
   "source": [
    "units_list = get_units()\n",
    "\n",
    "train_text_dataframe = raw_text_to_df(train_raw_files)\n",
    "# train_text_dataframe.to_csv(\"./CSV/train_text_dataframe.csv\")\n",
    "\n",
    "each_file_df = []\n",
    "for tsv_file in train_tsv_files:\n",
    "    each_file_df.append(pd.read_csv(tsv_file, sep=\"\\t\", header=0))\n",
    "\n",
    "train_tsv_dataframe = pd.concat(each_file_df)\n",
    "# train_tsv_dataframe.to_csv(\"./CSV/train_tsv_dataframe.csv\")\n",
    "\n",
    "test_text_dataframe = raw_text_to_df(test_raw_files)\n",
    "# test_text_dataframe.to_csv(\"./CSV/test_text_dataframe.csv\")\n",
    "\n",
    "each_file_test = []\n",
    "for tsv_file in test_tsv_files:\n",
    "    each_file_test.append(pd.read_csv(tsv_file, sep=\"\\t\", header=0))\n",
    "\n",
    "test_tsv_dataframe = pd.concat(each_file_test)\n",
    "# test_tsv_dataframe.to_csv(\"./CSV/test_tsv_dataframe.csv\")"
   ]
  },
  {
   "cell_type": "code",
   "execution_count": 17,
   "id": "reasonable-toyota",
   "metadata": {},
   "outputs": [],
   "source": [
    "X_train = []\n",
    "for _, row in train_text_dataframe.iterrows() :\n",
    "    features = features_sentence(row['sentence'], row['entities'], row['np'])\n",
    "    X_train.append(features)\n",
    "    \n",
    "y_train = get_text_labels(train_text_dataframe, train_tsv_dataframe)"
   ]
  },
  {
   "cell_type": "code",
   "execution_count": 18,
   "id": "phantom-disclaimer",
   "metadata": {},
   "outputs": [],
   "source": [
    "X_test = []\n",
    "for _, row in test_text_dataframe.iterrows() :\n",
    "    features = features_sentence(row['sentence'], row['entities'], row['np'])\n",
    "    X_test.append(features)\n",
    "    \n",
    "y_test = get_text_labels(test_text_dataframe, test_tsv_dataframe)"
   ]
  },
  {
   "cell_type": "code",
   "execution_count": 19,
   "id": "cordless-engine",
   "metadata": {},
   "outputs": [],
   "source": [
    "X_train = X_train + X_test\n",
    "y_train = y_train + y_test"
   ]
  },
  {
   "cell_type": "code",
   "execution_count": 21,
   "id": "sealed-fireplace",
   "metadata": {},
   "outputs": [],
   "source": [
    "eval_text_dataframe = raw_text_to_df(eval_raw_files)\n",
    "X_eval = []\n",
    "for _, row in eval_text_dataframe.iterrows() :\n",
    "    features = features_sentence(row['sentence'], row['entities'], row['np'])\n",
    "    X_eval.append(features)"
   ]
  },
  {
   "cell_type": "code",
   "execution_count": 22,
   "id": "weighted-headset",
   "metadata": {},
   "outputs": [
    {
     "name": "stderr",
     "output_type": "stream",
     "text": [
      "/opt/conda/lib/python3.7/site-packages/sklearn/base.py:213: FutureWarning: From version 0.24, get_params will raise an AttributeError if a parameter cannot be retrieved as an instance attribute. Previously it would return None.\n",
      "  FutureWarning)\n"
     ]
    },
    {
     "data": {
      "text/plain": [
       "CRF(algorithm='lbfgs', all_possible_transitions=True, c1=0.1, c2=0.1,\n",
       "    keep_tempfiles=None, max_iterations=300)"
      ]
     },
     "execution_count": 22,
     "metadata": {},
     "output_type": "execute_result"
    }
   ],
   "source": [
    "crf = sklearn_crfsuite.CRF(\n",
    "    algorithm='lbfgs',\n",
    "    c1=0.1,\n",
    "    c2=0.1,\n",
    "    max_iterations=300,\n",
    "    all_possible_transitions=True\n",
    ")\n",
    "crf.fit(X_train, y_train)"
   ]
  },
  {
   "cell_type": "code",
   "execution_count": 23,
   "id": "working-filename",
   "metadata": {},
   "outputs": [],
   "source": [
    "labels = list(crf.classes_)\n",
    "labels.remove('O')"
   ]
  },
  {
   "cell_type": "code",
   "execution_count": 24,
   "id": "french-individual",
   "metadata": {},
   "outputs": [],
   "source": [
    "y_pred = crf.predict(X_eval)\n",
    "\n",
    "sorted_labels = sorted(\n",
    "    labels,\n",
    "    key=lambda name: (name[1:], name[0])\n",
    ")"
   ]
  },
  {
   "cell_type": "code",
   "execution_count": 30,
   "id": "stuffed-cowboy",
   "metadata": {},
   "outputs": [],
   "source": [
    "# if not os.path.exists('results_task3'):\n",
    "#     os.makedirs('results_task3')\n",
    "# write_predictions_to_tsv(eval_text_dataframe, y_pred, 'results_task3/', units_list)\n",
    "# modify_tsv('results_task3/')"
   ]
  },
  {
   "cell_type": "code",
   "execution_count": 32,
   "id": "transparent-operator",
   "metadata": {},
   "outputs": [
    {
     "name": "stdout",
     "output_type": "stream",
     "text": [
      "Fitting 3 folds for each of 50 candidates, totalling 150 fits\n"
     ]
    },
    {
     "name": "stderr",
     "output_type": "stream",
     "text": [
      "[Parallel(n_jobs=-1)]: Using backend LokyBackend with 4 concurrent workers.\n",
      "[Parallel(n_jobs=-1)]: Done  42 tasks      | elapsed: 10.2min\n",
      "[Parallel(n_jobs=-1)]: Done 150 out of 150 | elapsed: 35.2min finished\n"
     ]
    },
    {
     "data": {
      "text/plain": [
       "RandomizedSearchCV(cv=3,\n",
       "                   estimator=CRF(algorithm='lbfgs',\n",
       "                                 all_possible_transitions=True,\n",
       "                                 keep_tempfiles=None, max_iterations=150),\n",
       "                   n_iter=50, n_jobs=-1,\n",
       "                   param_distributions={'c1': <scipy.stats._distn_infrastructure.rv_frozen object at 0x7f4cdd946ed0>,\n",
       "                                        'c2': <scipy.stats._distn_infrastructure.rv_frozen object at 0x7f4cdd946710>},\n",
       "                   scoring=make_scorer(flat_f1_score, average=weighted, labels=['ME', 'MP', 'QUANT']),\n",
       "                   verbose=1)"
      ]
     },
     "execution_count": 32,
     "metadata": {},
     "output_type": "execute_result"
    }
   ],
   "source": [
    "crf = sklearn_crfsuite.CRF(\n",
    "    algorithm='lbfgs',\n",
    "    max_iterations=150,\n",
    "    all_possible_transitions=True\n",
    ")\n",
    "\n",
    "params_space = {\n",
    "    'c1': scipy.stats.expon(scale=2),\n",
    "    'c2': scipy.stats.expon(scale=2), \n",
    "}\n",
    "\n",
    "f1_scorer = make_scorer(metrics.flat_f1_score,\n",
    "                        average='weighted', labels=labels)\n",
    "\n",
    "rs = RandomizedSearchCV(crf, params_space,\n",
    "                        cv=3,\n",
    "                        verbose=1,\n",
    "                        n_jobs=-1,\n",
    "                        n_iter=50,\n",
    "                        scoring=f1_scorer)\n",
    "\n",
    "rs.fit(X_train, y_train)"
   ]
  },
  {
   "cell_type": "code",
   "execution_count": 33,
   "id": "alert-probe",
   "metadata": {},
   "outputs": [],
   "source": [
    "crf = rs.best_estimator_\n",
    "y_pred = crf.predict(X_eval)\n",
    "# print(metrics.flat_classification_report(\n",
    "#     y_test, y_pred, labels=sorted_labels, digits=3\n",
    "\n",
    "# ))"
   ]
  },
  {
   "cell_type": "code",
   "execution_count": 43,
   "id": "delayed-glory",
   "metadata": {},
   "outputs": [],
   "source": [
    "if not os.path.exists('results_task3'):\n",
    "    os.makedirs('results_task3')\n",
    "write_predictions_to_tsv(eval_text_dataframe, y_pred, 'results_task3/', units_list)\n",
    "modify_tsv('results_task3/')"
   ]
  },
  {
   "cell_type": "code",
   "execution_count": 35,
   "id": "humanitarian-interval",
   "metadata": {},
   "outputs": [
    {
     "name": "stdout",
     "output_type": "stream",
     "text": [
      "best params: {'c1': 0.963012542096175, 'c2': 0.0077253253510719145}\n",
      "best CV score: 0.4920020633198714\n",
      "model size: 0.37M\n"
     ]
    }
   ],
   "source": [
    "print('best params:', rs.best_params_)\n",
    "print('best CV score:', rs.best_score_)\n",
    "print('model size: {:0.2f}M'.format(rs.best_estimator_.size_ / 1000000))"
   ]
  },
  {
   "cell_type": "code",
   "execution_count": 36,
   "id": "hollow-montgomery",
   "metadata": {},
   "outputs": [
    {
     "name": "stdout",
     "output_type": "stream",
     "text": [
      "Top likely transitions:\n",
      "ME     -> ME      1.953181\n",
      "MP     -> MP      1.798970\n",
      "QUANT  -> QUANT   1.706530\n",
      "O      -> O       1.096179\n"
     ]
    }
   ],
   "source": [
    "print(\"Top likely transitions:\")\n",
    "print_transitions(Counter(crf.transition_features_).most_common(4))"
   ]
  },
  {
   "cell_type": "code",
   "execution_count": 37,
   "id": "dense-germany",
   "metadata": {},
   "outputs": [
    {
     "name": "stdout",
     "output_type": "stream",
     "text": [
      "\n",
      "Top unlikely transitions:\n",
      "ME     -> QUANT   -2.053933\n",
      "QUANT  -> O       -2.192030\n",
      "O      -> ME      -2.374947\n",
      "ME     -> O       -2.413438\n"
     ]
    }
   ],
   "source": [
    "print(\"\\nTop unlikely transitions:\")\n",
    "print_transitions(Counter(crf.transition_features_).most_common()[-4:])"
   ]
  },
  {
   "cell_type": "code",
   "execution_count": 40,
   "id": "wrong-chicago",
   "metadata": {},
   "outputs": [
    {
     "name": "stdout",
     "output_type": "stream",
     "text": [
      "Top positive:\n",
      "7.257220 O        lemma:=\n",
      "5.952191 O        lemma:be\n",
      "5.329538 ME       lemma:CI\n",
      "4.553079 O        postag:WDT\n",
      "4.293253 O        postag:PRP$\n",
      "4.288478 ME       lemma:oi1\n",
      "4.259737 QUANT    lemma:ppm\n",
      "4.132383 MP       lemma:thick\n",
      "4.043120 QUANT    -lemma:room\n",
      "3.984109 QUANT    np:≥\n",
      "3.974346 QUANT    lemma:μm\n",
      "3.928796 O        lemma:;\n",
      "3.924668 MP       lemma:n\n",
      "3.858138 QUANT    -lemma:=\n",
      "3.702940 O        lemma:.\n",
      "3.626012 MP       lemma:Cu\n",
      "3.527183 QUANT    lemma:UT\n",
      "3.483508 QUANT    lemma:Hz\n",
      "3.477003 MP       lemma:distance\n",
      "3.405682 MP       lemma:depth\n"
     ]
    }
   ],
   "source": [
    "print(\"Top positive:\")\n",
    "print_state_features(Counter(crf.state_features_).most_common(20))"
   ]
  },
  {
   "cell_type": "code",
   "execution_count": 39,
   "id": "super-parade",
   "metadata": {},
   "outputs": [
    {
     "name": "stdout",
     "output_type": "stream",
     "text": [
      "\n",
      "Top negative:\n",
      "-2.011292 O        window_5_words:lemma:double\n",
      "-2.019762 QUANT    window_5_words:lemma:Framingham\n",
      "-2.111199 O        window_5_words:lemma:hot\n",
      "-2.180510 QUANT    +lemma:=\n",
      "-2.233817 O        -lemma:generate\n",
      "-2.300299 QUANT    postag:VBN\n",
      "-2.512217 O        window_5_words:lemma:n=4\n",
      "-2.852599 O        +lemma:=\n",
      "-2.918925 QUANT    lemma:at\n",
      "-3.437851 QUANT    window_5_words:lemma:å\n"
     ]
    }
   ],
   "source": [
    "print(\"\\nTop negative:\")\n",
    "print_state_features(Counter(crf.state_features_).most_common()[-10:])\n"
   ]
  },
  {
   "cell_type": "code",
   "execution_count": 41,
   "id": "through-italy",
   "metadata": {},
   "outputs": [],
   "source": [
    "%matplotlib inline\n",
    "import matplotlib.pyplot as plt\n",
    "plt.style.use('ggplot')"
   ]
  },
  {
   "cell_type": "code",
   "execution_count": 42,
   "id": "demanding-crowd",
   "metadata": {},
   "outputs": [
    {
     "name": "stdout",
     "output_type": "stream",
     "text": [
      "Dark blue => 0.3643, dark red => 0.492\n"
     ]
    },
    {
     "data": {
      "image/png": "[encoded data removed]",
      "text/plain": [
       "<Figure size 864x864 with 1 Axes>"
      ]
     },
     "metadata": {},
     "output_type": "display_data"
    }
   ],
   "source": [
    "_x = [s['c1'] for s in rs.cv_results_['params']]\n",
    "_y = [s['c2'] for s in rs.cv_results_['params']]\n",
    "_c = [s for s in rs.cv_results_['mean_test_score']]\n",
    "\n",
    "fig = plt.figure()\n",
    "fig.set_size_inches(12, 12)\n",
    "ax = plt.gca()\n",
    "ax.set_yscale('log')\n",
    "ax.set_xscale('log')\n",
    "ax.set_xlabel('C1')\n",
    "ax.set_ylabel('C2')\n",
    "ax.set_title(\"Randomized Hyperparameter Search CV Results (min={:0.3}, max={:0.3})\".format(\n",
    "    min(_c), max(_c)\n",
    "))\n",
    "\n",
    "ax.scatter(_x, _y, c=_c, s=60, alpha=0.9, edgecolors=[0,0,0])\n",
    "\n",
    "print(\"Dark blue => {:0.4}, dark red => {:0.4}\".format(min(_c), max(_c)))"
   ]
  }
 ],
 "metadata": {
  "environment": {
   "name": "tf2-gpu.2-3.m65",
   "type": "gcloud",
   "uri": "gcr.io/deeplearning-platform-release/tf2-gpu.2-3:m65"
  },
  "kernelspec": {
   "display_name": "Python 3",
   "language": "python",
   "name": "python3"
  },
  "language_info": {
   "codemirror_mode": {
    "name": "ipython",
    "version": 3
   },
   "file_extension": ".py",
   "mimetype": "text/x-python",
   "name": "python",
   "nbconvert_exporter": "python",
   "pygments_lexer": "ipython3",
   "version": "3.7.10"
  }
 },
 "nbformat": 4,
 "nbformat_minor": 5
}
